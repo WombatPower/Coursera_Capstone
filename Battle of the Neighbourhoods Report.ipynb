{
    "nbformat_minor": 1, 
    "cells": [
        {
            "source": "##### The battle of the Neighborhoods (Part 1 only)\n\nAs part of the Coursera IBM Data Science Professional Specialization, this report describes a recommender system for location data\n\n## Problem Description\n\nWhenever I am coming to a new city, I have a hard time to access which location I should select. This is true for my as a tourist as well as if I am (like recently) moved away to a new location.\nTypically, I as a user know my own preferences and what I expect from an area. For instance, my personal preference is a lively region with a lot of shops, bars and recreational areas. A got medical system with many doctors may not be of much importance for me. Hence, it would be nice to get, based on a set of preferences, a recommendation for which area in a city to go for.\n\nThis is exactly what the described service does!\nThe service is aiming at people visiting or moving a new city. They are presented a set of predefined personas they can personalize to match their own interest.\n\n\n### Business Model\n\nThe service can the capitalized by using targeted ads. As the type of the user is known by its persona, a pin-pointed marketing can happen. E.g. hotels in the most matching area can be advertised.\n\n\n## Data and Approach\n\n### Data\nIn order to recommend a certain area of a city, two main types of data is needed:\n\n1. *User Preferences rating a set of attributes*\n\n    The user preferences are taken from a user persona, which is the input to the approach. I as a user have to enter that the importance for e.g. a Bar is 5 and so on.\n\n2. *Location Data describing the quality of a region with respect to the set of of attributes*\n\n    The fundamentals of the location data is retrieved using the FourSquareAPI for a given area. Using the API, all entries in a circular area around the location center are collected and the number of entries for the various categories are counted.\n    \n### Approach\n\nIn order to allow a recommendation, the collected data is preprocessed.\n\nAt first, an area grid is created forming a regular grid of locations matching the size of the target size.\nFor each part of the grid, the FourSquareAPI is used to get a list of locations returned as a JSON data entry. As such, the results from FourSqure need to be extracted. For each location entry, the main information used in the type of the location, e.g. a Bar or a Restaurant.  \nAfter extracting the types of locations for each  gird entry, the data is grouped and the number of each location type for each location is kept. Afterwards, the locational data is preprocessed by normalizing the number of entries for each category using the MinMaxScaler. This is in order to avoid the different scales in the entries, while some elements like Coffee Shops tend to have a high occurrence, other entries like specialized restaurants have fewer entries. Hence, in order to compare the scale, the numbers are normalized for each categories over all grid cells.\n\nThan, the normalized data can be used in a recommender system by multiplying the user profile with the normalized gird data.\n\nFinally, a preference score is obtained for each grid entry, and displayed on a map using folium.\n  \n\n## Results\n\nA full discussion of results is done in the second part of the Capstone project. For an example on the resulting map, please refer to \nhttps://eu-gb.dataplatform.cloud.ibm.com/analytics/notebooks/v2/0ab39b8b-4476-47e2-8724-5d8a8f29c3bc/view?access_token=913ce965121ab774982c261121215d913c317f90925f4d01f3ce5b5499f3f04b  .\n\n## Discussion\n\nDone in the second part of the Capstone project\n\n\n## Conclusions\n\nDone in the second part of the Capstone project\n\n", 
            "cell_type": "markdown", 
            "metadata": {
                "collapsed": true
            }
        }, 
        {
            "execution_count": null, 
            "cell_type": "code", 
            "metadata": {}, 
            "outputs": [], 
            "source": ""
        }
    ], 
    "metadata": {
        "kernelspec": {
            "display_name": "Python 3.5", 
            "name": "python3", 
            "language": "python"
        }, 
        "language_info": {
            "mimetype": "text/x-python", 
            "nbconvert_exporter": "python", 
            "version": "3.5.5", 
            "name": "python", 
            "file_extension": ".py", 
            "pygments_lexer": "ipython3", 
            "codemirror_mode": {
                "version": 3, 
                "name": "ipython"
            }
        }
    }, 
    "nbformat": 4
}